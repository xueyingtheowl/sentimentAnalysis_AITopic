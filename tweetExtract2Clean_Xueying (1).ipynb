{
 "cells": [
  {
   "cell_type": "code",
   "execution_count": 1,
   "metadata": {},
   "outputs": [],
   "source": [
    "#import libraries\n",
    "import tweepy\n",
    "import json\n",
    "import sys\n",
    "import jsonpickle\n",
    "import os\n",
    "import re\n",
    "import pandas as pd\n",
    "import numpy as np\n",
    "import matplotlib.pyplot as plt\n",
    "from bs4 import BeautifulSoup\n",
    "from nltk.tokenize import WordPunctTokenizer\n",
    "import seaborn as sns "
   ]
  },
  {
   "cell_type": "code",
   "execution_count": null,
   "metadata": {},
   "outputs": [],
   "source": [
    "# Set plotting parameters\n",
    "get_ipython().magic(u'matplotlib inline')\n",
    "params = {'legend.fontsize': 'x-large',\n",
    "         'figure.figsize': (9,6),\n",
    "         'axes.labelsize': 'large',\n",
    "         'axes.titlesize': 'x-large',\n",
    "          }\n",
    "plt.rcParams.update(params)"
   ]
  },
  {
   "cell_type": "markdown",
   "metadata": {},
   "source": [
    "Step I: Extract Tweets from Twitter API"
   ]
  },
  {
   "cell_type": "code",
   "execution_count": 3,
   "metadata": {},
   "outputs": [],
   "source": [
    "# twitter API key\n",
    "consumer_key=\"**************\"\n",
    "consumer_secret=\"********************\"\n",
    "access_token=\"***********************\"\n",
    "access_token_secret=\"***********************\"\n",
    "\n",
    "auth=tweepy.OAuthHandler(consumer_key,consumer_secret)\n",
    "\n",
    "auth.set_access_token(access_token, access_token_secret)\n",
    "\n",
    "api = tweepy.API(auth, wait_on_rate_limit =True,\n",
    "                wait_on_rate_limit_notify =True)\n",
    "\n",
    "if (not api):\n",
    "    print (\"Can't Authenticate\")\n",
    "    sys.exit(-1)"
   ]
  },
  {
   "cell_type": "code",
   "execution_count": 8,
   "metadata": {},
   "outputs": [],
   "source": [
    "# Create a dictionary to hold the extracted data\n",
    "dict_tweet = {'user': [], 'text': [],\n",
    "             'retweet_count':[],\n",
    "             'bio':[],'id':[]}\n",
    "\n",
    "# Set the twitter extraction query parameters\n",
    "searchQuery = '\"Artificial%20Intelligence\"%20OR%20AI&lang=en'\n",
    "maxTweets = 70000\n",
    "tweetsPerQry = 100\n",
    "fName = 'tweets_aiAI_uncleaned.txt'\n",
    "sinceId = None #no lower limit, go as far back as API allows\n",
    "max_id = -1L #no lower limit, go as far back as API allows\n",
    "\n",
    "#Initiate the count\n",
    "tweetCount = 0"
   ]
  },
  {
   "cell_type": "code",
   "execution_count": 11,
   "metadata": {
    "collapsed": true
   },
   "outputs": [
    {
     "name": "stdout",
     "output_type": "stream",
     "text": [
      "some error:Failed to send request: HTTPSConnectionPool(host='api.twitter.com', port=443): Max retries exceeded with url: /1.1/search/tweets.json?q=%22Artificial%2520Intelligence%22%2520OR%2520AI%26lang%3Den&count=100&lang=en (Caused by NewConnectionError('<urllib3.connection.VerifiedHTTPSConnection object at 0x000000001A1CAC88>: Failed to establish a new connection: [Errno 11001] getaddrinfo failed',))\n",
      "Download 0 tweets, saved to tweets_aiAI_uncleaned.txt\n"
     ]
    }
   ],
   "source": [
    "# search for tweets\n",
    "with open(fName, 'w') as f:\n",
    "    while tweetCount < maxTweets:\n",
    "        try:\n",
    "            if (max_id <= 0):\n",
    "                if (not sinceId):\n",
    "                    new_tweets = api.search(q=searchQuery, count=tweetsPerQry, lang='en') # added lang to next several lines, ESC\n",
    "                else:\n",
    "                    new_tweets = api.search(q=searchQuery, count=tweetsPerQry, lang='en',\n",
    "                                            since_id=sinceId)\n",
    "            else:\n",
    "                if (not sinceId):\n",
    "                    new_tweets = api.search(q=searchQuery, count=tweetsPerQry, lang='en',\n",
    "                                            max_id=str(max_id - 1))\n",
    "                else:\n",
    "                    new_tweets = api.search(q=searchQuery, count=tweetsPerQry, lang='en',\n",
    "                                            max_id=str(max_id - 1),\n",
    "                                            since_id=sinceId)\n",
    "            for tweet in new_tweets:\n",
    "                dict_tweet['user'].append(tweet.user.screen_name)\n",
    "                dict_tweet['text'].append(tweet.text)\n",
    "                dict_tweet['retweet_count'].append(tweet.retweet_count)\n",
    "                dict_tweet['bio'].append(tweet.user.description)\n",
    "                dict_tweet['id'].append(tweet.user.id_str)\n",
    "             \n",
    "            if not new_tweets:\n",
    "                print(\"No more tweets found\")\n",
    "                break\n",
    "            for tweet in new_tweets:\n",
    "                f.write(jsonpickle.encode(tweet._json, unpicklable =False)+ \n",
    "                       '\\n')\n",
    "            tweetCount += len(new_tweets)\n",
    "            print(\"Download {0} tweets\".format(tweetCount))\n",
    "            max_id = new_tweets[-1].id\n",
    "            \n",
    "        except tweepy.TweepError as e:\n",
    "          \n",
    "            print(\"some error:\" + str(e))\n",
    "            break\n",
    "print(\"Download {0} tweets, saved to {1}\". format(tweetCount, fName))\n",
    "\n",
    "#Convert dictionary to data frame\n",
    "tweet_df = pd.DataFrame(dict_tweet)\n",
    "tweet_df.head(5)"
   ]
  },
  {
   "cell_type": "code",
   "execution_count": 21,
   "metadata": {
    "collapsed": true
   },
   "outputs": [
    {
     "data": {
      "text/plain": [
       "0.0"
      ]
     },
     "execution_count": 21,
     "metadata": {},
     "output_type": "execute_result"
    }
   ],
   "source": [
    "# Preprocess data\n",
    "tok = WordPunctTokenizer()\n",
    "part1 = r'@[A-Za-z0-9]+' \n",
    "part2 = r'https?://[A-Za-z0-9./]+' \n",
    "combined_pat = r'|'.join((part1,part2))\n",
    "\n",
    "min_df = pd.DataFrame(tweet_df,columns=['bio','id'])\n",
    "min_df['id'].min()\n",
    "\n",
    "def tweet_cleaner(text):\n",
    "    soup = BeautifulSoup(text, 'lxml')\n",
    "    souped = soup.get_text()\n",
    "    stripped = re.sub(combined_pat, '', souped)\n",
    "    try:\n",
    "        clean = stripped.decode(\"utf-8-sig\").replace(u\"\\ufffd\", \"?\")\n",
    "    except:\n",
    "        clean = stripped\n",
    "    letters_only = re.sub(\"[^a-zA-Z]\", \" \", clean)\n",
    "    lower_case = letters_only.lower()\n",
    "   \n",
    "    words = tok.tokenize(lower_case)\n",
    "    return (\" \".join(words)).strip()\n",
    "\n",
    "all_tweets = tweet_df.text\n",
    "text_cleaned = []\n",
    "for t in all_tweets:\n",
    "    text_cleaned.append(tweet_cleaner(t))\n",
    "    \n",
    "len(text_cleaned)\n",
    "text_clean = pd.Series(text_cleaned)\n",
    "tweet_df['text_clean'] = text_clean.values\n",
    "\n",
    "tweet_df['text_clean'] = tweet_df['text_clean'].str.replace('rt', '')\n",
    "\n",
    "#Save cleaned tweets to csv\n",
    "tweet_df.to_csv('aiAI_first_cleaned.csv', sep=',', encoding='utf-8')"
   ]
  },
  {
   "cell_type": "code",
   "execution_count": 28,
   "metadata": {},
   "outputs": [],
   "source": [
    "# keywords that computer professionals' ['bio'] contains\n",
    "condStr = \"\"\"information security analyst|IT manager|computer system analyst\n",
    "|computer network architect|security engineer|technical solutions consultant|technical program manager\n",
    "|technical solutions engineer|test engineer|android engineer|computer engineering|software test engineer\n",
    "|java developer|computer vision scientist|computer architechture|cloud engineer|full stack engineer\n",
    "|Python|python cloud engineer||linux|Linux|python software engineer|image acquisition|bioinformatics\n",
    "|scala|java|Java|voice assistant|application developer|systems architect|PHP|Go|games system engineer\n",
    "|backend engineer|bot|Chatbot|Blockchain|robotics|automation|driverless car|CyberSecurity|DigitalTransformation\n",
    "|cs|VR|AR|geek|virtual realitysoftware|Software|software developer|Software Developer|AI|ai|artificial intelligence\n",
    "|programmer|Programmer|data science|Data Science|data mining|DataScience|data scientist|data engineer|big data\n",
    "|machine learning|ml|ML|Machine Learning|NLP|nlp|natural language processing|Natural Language Processing|deep learning\n",
    "|Deep Learning|web designer|Web Designer\n",
    "\"\"\"\n",
    "\n",
    "#kw = ['a','b','c','d']\n",
    "#'|'.join(kw)\n",
    "\n",
    "tweet_df['engi_occu'] = tweet_df['bio'].str.contains(condStr)\n",
    "\n",
    "# keywords that laypeople's ['bio'] contains\n",
    "conStrLay = \"\"\"lawyer|teacher|student|singer|politician|product manager|gardener\n",
    "|shop|chef|dentist|physician|nurse|statistician|orthodontist|therapist|surgeon|psychiatrist|marketing manager|actuary|mathematician|HR\n",
    "|business operations manager|mechanical engineer|accountant|financial advisor|civil engineer|financial manager|massage therapist|pharmacist\n",
    "|plumber|cost estimator|retail marketing|program manager|consultant|manufacturing business manager|account strategist|industry manager\n",
    "|analytical consultant|visual designer|painter|actor|actress|animation lead|interaction designer|customer support specialist|marketing operations manager\n",
    "|brand designer|journalist|tradesperson|retail salesperson|cashier|office clerk|waiter|customer service representative|mover|secretary\n",
    "|administrative assistant|stock clerk|truck driver|manufacturing sales representative|auditor|security guard|business operation specialist\n",
    "|cook|maid|food preparation worker|construction laborer|supervisor|packer|packager|sheriff|carpenter|childcare worker|technician|mechanic teller\n",
    "|medical assistant|electrician|dishwasher|bartender|bus driver|pipefitter|machinist|hairdresser|hairstylist|cosmetologist|pharmacy|sales|solder\n",
    "|firefighter|artist|reporter|biomedical engineer|medical|attorney|musician|director|photographer|farm owner|farmer|tailor|gold smith|jeweller\n",
    "|pianist|singer|violinist|librarian|freelancer|writer|host|charity|paster|minister|priest|preacher|novelist|poet|media operator|product manager\n",
    "|Author|broadcaster|humanist|Able Seamen|Account Collector|Accounting Specialist|Adjustment Clerk|Administrative Assistant|Administrative Law Judge\n",
    "|Administrative Service Manager|Admiralty Lawyer|Adult Literacy |Remedial Education Teachers|Advertising Account Executive|Advertising Agency Coordinator\n",
    "|Aeronautical|Aerospace Engineer|Aerospace Engineering Technician|Agricultural Crop Farm Manager|Agricultural Engineer|Agricultural Equipment Operator\n",
    "|Agricultural Inspector|Agricultural Product Sorter|Agricultural Sciences Professor|Agricultural Technician|Air Crew Member|Air Crew Officer|Air Traffic Controller\n",
    "|Aircraft Assembler|Aircraft Body |Bonded Structure Repairer|Aircraft Cargo Handling Supervisor|Aircraft Examiner|Aircraft Launch|Recovery Officer\n",
    "|Aircraft Launch|Recovery Specialist|Aircraft Mechanic|Airfield Operations Specialist|Airline Flight Attendant|Airline Flight Control Administrator\n",
    "|Airline Flight Operations Administrator|Airline Flight Reservations Administrator|Airport Administrator|Airport Design Engineer|Alcohol Abuse Assistance Coordinator\n",
    "|Drug Abuse Assistance Coordinator|Alumni Relations Coordinator|Ambulance Drivers|Amusement Park  Recreation Attendants|Anesthesiologist|Animal Breeder|Animal Control Worker\n",
    "|Animal Husbandry Worker Supervisor|Animal Keepers |Groomers|Animal Kennel Supervisor|Animal Scientist|Animal Trainer|Animation Cartoonist\n",
    "|Answering Service Operator|Anthropology |Archeology Professor|Anti Terrorism Intelligence Agent|Appeals Referee|Aquaculturist|Fish Farmer|Aquarium Curator|Architecture Professor\n",
    "|Area Ethnic|Cultural Studies Professor|Armored Assault Vehicle Crew Member|Armored Assault Vehicle Officer|Art Appraiser|Art Director|Art Restorer|Art Therapist|Art  Drama  \n",
    "|Music Professor|Artillery |Missile Crew Member|Artillery |Missile Officer|Artists Agent|Athletes' Business Manager|Athletic Coach\n",
    "|Athletic Director|Athletic Trainer|ATM Machine Servicer|Atmospheric |Space Scientist|Audio Visual Collections Specialist|Audiovisual Production Specialist|Automobile Mechanic\n",
    "|Automotive Body Repairer|Automotive Engineer|Automotive Glass Installer|Avionics Technician|Baggage Porters |Bellhops|Baker|Ballistics Expert|Bank |Branch Managers|Bank Examiner\n",
    "|Bank Teller|Benefits Manager|Bicycle Mechanic|Billing Specialist|Bindery Machine Set Up Operators|Bindery Machine Tender|Biological Technician|Biology Professor|Biomedical Engineer\n",
    "|Biomedical Equipment Technician|Boat Builder|Book Editor|Border Patrol Agent|Brattice Builder|Bridge |Lock Tenders|Broadcast News Analyst|Broadcast Technician|Broker's Floor Representative\n",
    "|Brokerage Clerk|Budget Accountant|Budget Analyst|Building Inspector|Building Maintenance Mechanic|Grader Operator|Bus |Truck Mechanics|Bus Boy|Bus Girl|Bus Driver School|Bus Driver Transit\n",
    "|Business Professor|Business Service Specialist|Cabinet Maker|Camp Director|Caption Writer|Cardiologist|Cardiopulmonary Technologist|Career Counselor|Cargo |Freight Agents|Carpenter's Assistant\n",
    "|Carpet Installer|Cartographer|Cartographic Technician|Cartoonist|Casino Cage Worker|Casino Cashier|Casino Dealer|Casino Floor Person|Casino Manager|Casino Pit Boss|Casino Slot Machine Mechanic\n",
    "|Casino Surveillance Officer|Casting Director|Catering Administrator|Ceiling Tile Installer|Cement Mason|Ceramic Engineer|Certified Public Accountant|Chaplain|Chemical Engineer|Chemical Equipment Operator\n",
    "|Chemical Plant Operator|Chemical Technicians|Chemistry Professor|Chief Financial Officer|Child Care Center Administrator|Child Care Worker|Child Life Specialist|Child Support Investigator|Child Support Services Worker\n",
    "|City Planning Aide|Civil Drafter|Civil Engineer|Civil Engineering Technician|Clergy Member|Religious Leader|Clinical Dietitian|Clinical Psychologist|Clinical Sociologist|Coatroom |Dressing Room Attendants\n",
    "|College|University Professor|Commercial Designer|Commercial Diver|Commercial Fisherman|Communication Equipment Mechanic|Communications Professor|Community Health Nurse|Community Organization Worker\n",
    "|Community Welfare Worker |Compensation Administrator|Compensation Specialist|Compliance Officer|Congressional Aide\n",
    "|Conservation Scientist|Construction Driller|Construction Laborer|Construction Manager|Construction Trades Supervisor\n",
    "|Contract Administrator|Contract Specialist|Control Center Specialist|Controller|Cook|Cook Fast Food|Cook Private Household\n",
    "|Cook Restaurant|Cook Short Order|Copy Writer|Corporation Lawyer|Correction Officer|Correspondence Clerk|Cosmetologist\n",
    "|Cost Accountant|Cost Analysis Engineer|Cost Estimator|Costume Attendant|Counseling Psychologist|Counter |Rental Clerks\n",
    "|County or City Auditor|Couriers |Messengers|Court Administrator|Court Clerk|Court Reporter|Craft Artist|Crane Operator\n",
    "|Credit Adjuster|Credit Analyst|Credit Reporter|Criminal Investigator|Detective|Criminal Justice Professor|Criminal Lawyer\n",
    "|Crop Workers Supervisor|Crossing Guard|Custom Tailor|Customer Service Representative|Customer Service Supervisor\n",
    "|Customs Inspector|Cutting Machine Operators|Dairy Technologist|Database Administrator|Deaf Students Teacher|Delivery Driver\n",
    "|Demonstrators |Product Promoters|Orthodontic Office Administrator|Dental Assistant|Dental Hygienist\n",
    "|Dental Laboratory Technician|Dentist|Dermatologist|Desktop Publishing Specialist|Developmental Psychologist\n",
    "|Die Cutter Operator|Dietetic Technician|Dietitian |Nutritionist|Directory Assistance Operator|Disabled Students Teacher\n",
    "|Disk Jockey|Dispatcher|Door To Door Salesmen|Dry Wall Installer|Economics Professor|Editorial Writer  Newspapers  Magazines\n",
    "|Education |Training Administrator|Education Professor|Educational Administrator|Educational Psychologist\n",
    "|Educational Resource Coordinator|Educational Therapist|EEG Technician|Technologist|Electric Meter Installer\n",
    "|Electric Motor Mechanic|Electrical |Electronic Inspector|Electrical Drafter|Electrical Engineers\n",
    "|Electrical Parts Reconditioner|Electrical Technician|Electro Mechanical Technicians|Electromechanical Equipment Assembler\n",
    "|Electronic Drafter|Electronics Engineer|Electronics Technician|Elementary School Administrator|Elementary School Teacher\n",
    "|Elevator Mechanic|Emergency Management Specialist|Emergency Medical Technician|Employee Benefits Analyst\n",
    "|Employee Training Instructor|Employment Administrator|Employment |Placement Specialist|Employment Interviewer|Engine\n",
    "|Machine Assemblers|Engineering Managers|Engineering Professor|English Language |Literature Professor\n",
    "|Environmental Compliance Inspector|Environmental Disease Analyst|Environmental Engineer|Environmental Planner\n",
    "|Environmental Research Analyst|Environmental Science Technician|Environmental Science Professor|Environmental Technician\n",
    "|Equal Opportunity Representative|Etchers |Engravers|Excavating Machine Operator|Excavating Supervisor|Executive Secretary\n",
    "|Exercise Physiologist|Exhibit Artist|Exhibit Designer|Experimental Psychologist|Explosives Worker|Export Agent|Fabric\n",
    "|Apparel Patternmakers|Facilities Planner|Factory Layout Engineer|Family Caseworker|Family Pract|Farm Equipment Mechanic\n",
    "|Farm Hand|Farm Labor Contractor|Farm Manager|Farm Products Purchasing Agent|Fashion Artist|Fashion Coordinator\n",
    "|Fashion Designer|Fashion Model|Fence Installer|Field Contractor|Field Health Officer|File Clerk|Film Editor\n",
    "|Film Laboratory Technician|Finance Manager|Financial Aid Counselor|Financial Analyst|Financial Examiner|Financial Planner\n",
    "|Financial Services Sales Agent|Fine Artist|Fire Inspector|Fire Investigator|Fire Prevention Engineer\n",
    "|Fire Protection Engineer|Fire Protection Engineering Technician|Fish Game Warden|Fish Hatchery Specialist\n",
    "|Fishery Worker Supervisor|Fitness Trainer|Flight Engineers|Floral Designer|Food Drug Inspector|Food Batchmaker\n",
    "|Food Preparation Worker|Food Science Technicians|Food Technologist|Foreign Exchange Trader|Foreign Language Interpreter\n",
    "|Foreign Language Teacher|Foreign Language Translator|Foreign Service Officer|Foreign Service Peacekeeping Specialist\n",
    "|Foreign Student Adviser|Forensic Science Technicians|Forensics Psychologist|Forest |Conservation Technician|Forest Engineer\n",
    "|Forest Fire Prevention Supervisor|Forest Fire Inspector|Forestry |Conservation Professor|Forging Machine Operator|Forklift\n",
    "|Industrial Truck Operators|Fraud Investigator|Freight |Stock Handler|Fund Raiser|Funds Development Administrator\n",
    "|Funeral Attendant|Funeral Director|Furniture Designer|Furniture Finishers|Gas Plant Operator|General |Operations Managers\n",
    "|General Farmworkers|General Internists|Geography Professor|Geological Data Technicians|Geological Technician|Glass Blower\n",
    "|Gluing Machine Operators|Golf Course Superintendent|Government Budget Analyst|Government Property Inspectors\n",
    "|Government Service Executives|Graduate Teaching Assistant|Graphic Designer|Greenhouse |Nursery Manager|Gynecologist\n",
    "|Portable Tool Mechanic|H|Sewer|Harbor Master|Harbor  Lake  Waterways Police|Hardwood Floor Finisher\n",
    "|Hazardous Materials Removal Worker|Hazardous Waste Management Analyst|Health Care Facilities Inspector|Health Case Manager\n",
    "|Health Educators|Health Psychologist|Hearing Officer|Heating|Refrigeration Technician|Heavy Equipment Mechanic\n",
    "|High School Administrator|High School Guidance Counselor|High School Teacher|Highway Maintenance Worker|Highway Patrol Pilot\n",
    "|Historic Site Administrator|Historical Archivist|History Professor|Home Appliance Installer|Home Appliance Repairer\n",
    "|Home Economics Teacher|Home Economist|Home Entertainment System Installer|Home Health Aide|Home Health Technician\n",
    "|Horticultural Worker Supervisor|Horticulture Therapist|Horticulturist|Hospital Administrator|Hospital Nurse|Hosts\n",
    "|Hostesses|Hotel Convention|Events Coordinator|Hotel Manager|Housekeeping Supervisors|Human Factors Psychologist\n",
    "|Human Resources Management Advisor|Human Resources Management Consultant|Hydraulic Engineer|Immigration Inspector\n",
    "|Industrial Air Pollution Analyst|Industrial Arts Teacher|Industrial Designer|Industrial Engineer\n",
    "|Industrial Engineering Technician|Industrial Health Engineer|Industrial Hygienist|Industrial Machinery Mechanics\n",
    "|Industrial Relations Analyst|Industrial Relations Specialist|Industrial Therapist|Industrial Waste Inspector\n",
    "|Industrial Organizational Psychologist|Infantry Officers|Instructional Coordinators|Instructor Police Canine Services\n",
    "|Instrument Technician|Insulation Installer|Insurance Adjuster|Insurance Agent|Insurance Appraiser|Insurance Claim Examiner\n",
    "|Insurance Claims Adjuster|Insurance Claims Clerks|Insurance Estate Planner|Insurance Lawyer\n",
    "|Insurance Policy Processing Clerk|Insurance Underwriter|Intelligence Specialist Government|Interior Designer\n",
    "|Internal Auditor|Interpreter for the Hearing Impaired|Irradiated Fuel Handlers|Irrigation Engineer|Janitorial Supervisors\n",
    "|Job Analyst|Job Development Specialist|Job Printer|Kindergarten Teacher|Labor Relations Advisor|Laboratory Tester\n",
    "|Surveyor|Landscape Architect|Landscape Contractor|Lathe Operator|Law Clerks|Law Professor|Legal Assistant|Legal Secretary\n",
    "|Legislative Assistant|Library Assistant|Library Consultant|Library Science Professor|Library Technician|License Clerk\n",
    "|Licensed Practical Nurse|Livestock Commission Agent|Loan Counselor|Loan Interviewers |Clerks|Loan Officer\n",
    "|Locomotive Engineers|Log Graders|Scalers|Logging Tractor Operator|Logging Worker Supervisor|Machine Feeders\n",
    "|Offbearers|Mail Clerk|Mail Machine Operators|Maintenance Supervisor|Makeup Artists|Theatrical|Management Consultant Analyst\n",
    "|Manicurists |Pedicurists|Manual Arts Therapist|Mapping Technician|Marina Boat Charter Administrator|Marine\n",
    "|Aquatic Biologist|Marine Architect|Marine Cargo Surveyor|Marine Drafter|Marine Engineer|Marine Surveyor\n",
    "|Marine Engineer|Port Engineer|Market Research Analyst|Marketing Managers|Marking Clerk|Marriage|Family Therapists\n",
    "|Massage Therapist|Materials Engineer|Materials Inspector|Materials Scientist|Math Professor|Mathematical Technician\n",
    "|Meat Packers|Meat  Poultry  |Fish Trimmers|Mechanical Drafter|Mechanical Engineer|Mechanical Engineering Technician\n",
    "|Mechanical Inspector|Medical Administrative Assistant|Medical |Public Health Social Workers|Medical |Scientific Illustrator\n",
    "|Medical Appliance Technician|Medical Assistant|Medical Equipment Preparer|Medical Examiner|Coroner\n",
    "|Medical Insurance Claims Analyst|Medical Laboratory Technician|Medical Photographer|Medical Records Administrator\n",
    "|Medical Records Technician|Medical Secretary|Medical Technologist|Medical Transcriptionist|Mental Health Counselor\n",
    "|Mentally Retarded Students Teacher|Merchandise Displayer|Metal Casting Machine Operator|Metal Fabricator\n",
    "|Meter Mechanic|Middle School Administrator|Middle School Guidance Counselor|Middle School Teacher|Military Analyst\n",
    "|Military Officer|Military Enlisted Personnel|Mill Worker|Mine Cutting Machine Operator|Mine Inspector|Mining Engineer\n",
    "|Mining Machine Operator|Mining Shovel Machine Operator|Missing Person Investigator|Missionary Worker|Model Maker\n",
    "|Model Makers  Metal |Plastic|Motion Picture Director|Motion Picture Projectionist|Motor Vehicle Inspector\n",
    "|Motorboat Mechanic|Motorcycle Mechanic|Municipal Fire Fighting Supervisor|Museum Curator|Museum Technicians\n",
    "|Conservators|Music Arrangers |Orchestrators|Music Director|Music Teacher|Music Therapist|Musical Instrument Tuner\n",
    "|Narcotics Investigator|New Accounts Clerk|Newspaper Editor|Newspaper Writer|Non Retail Sales Supervisor|Nuclear Engineer\n",
    "|Nuclear Equipment Operation Technician|Nuclear Fuels Research Engineer|Nuclear Medicine Technologist\n",
    "|Nuclear Monitoring Technician|Nuclear Power Reactor Operator|Nuclear Technicians|Numerical Tool Programmer\n",
    "|Nurse Practitioner|Nurse's Aide|Nursery Workers|Nursing Professor|Obstetrician|Occupational Analyst|Occupational Physician\n",
    "|Occupational Safety  Health Inspector|Occupational Therapist|Occupational Therapy Assistant|Oceanographic Assistant\n",
    "|Office Clerk|Office Machine Mechanic|Office Supervisor|Offset Press Operators|Operating Engineers\n",
    "|Operations Management Analyst|Ophthalmic Laboratory Technician|Ophthalmologist|Oral |Maxillofacial Surgeons|Order Clerk\n",
    "|Order Fillers  Wholesale |Retail Sales|Ordinary Seamen|Ornamental Metalwork Designer|Orthodontic Assistant\n",
    "|Orthodontic Laboratory Technician|Orthodontist|Outdoor Education Teacher|Overhead Door Installer|Package Designer\n",
    "|Packaging Machine Operator|Packers |Packagers  Hand|Painter|Painters  Construction |Maintenance\n",
    "|Painters Transportation Equipment|Park Naturalist|Parking Enforcement Officer|Parking Lot Attendant\n",
    "|Parole Officer|Parts Salesperson|Paste Up Worker|Patent Agent|Patent Lawyer|Pathologist|Payroll |Timekeeping Clerk\n",
    "|PBX Installer |Repairer|Peace Corps Worker|Pediatric Dentist|Pediatrician|Personal Service Supervisor\n",
    "|Personnel Administrator|Personnel Assistant|Personnel Recruiter|Pest Control Workers|Pesticide Handlers|Petroleum Engineer\n",
    "|Petroleum Geologist|Petroleum Laboratory Assistant|Petroleum Refinery Operator|Petroleum Technician|Pharmacy Aides\n",
    "|Philosophy |Religion Professor|Photo Optics Technician|Photoengravers|Photogrammetric Engineer\n",
    "|Photographic Equipment Mechanic|Photographic Process Workers|Physical Education Instructor|Physical Therapist\n",
    "|Physical Therapist Aides|Physical Therapy Assistant|Physician's Assistant|Physician's Office Nurse|Physics Professor\n",
    "|Pilot|Plant Breeder|Plant Manager|Plasterers |Stucco Masons|Plastic Surgeon|Graphic Arts|Plumber Plumbing Contractor\n",
    "|Police |Detectives Supervisor|Police Artist|Police Identification |Records Officers|Police Officer\n",
    "|Political Science Professor|Political Scientist|Postal Service Clerks|Postal Service Mail Carriers\n",
    "|Postal Service Mail Sorter|Postmasters |Mail Superintendents|Power Plant Operators|Power Line Installer |Mechanic\n",
    "|Precision Devices Inspectors |Testers|Preschool Administrator|Preschool Teacher|Pressing Machine Operator\n",
    "|Pressure Vessel Inspectors|Printing|Graphic Arts Reproduction Technician|Printmaker|Private Detectives |Investigators\n",
    "|Private Nurse|Private Sector Executives|Probate Lawyer|Probation Officer|Procurement Clerks|Product Planner\n",
    "|Product Safety Engineer|Production Planner|Production Clerk|Professional Sports Scout|Proofreader|Copy Marker\n",
    "|Property Accountant|Property Assessor|Property Managers|Props |Lighting Technicians|Prosthetic Technician\n",
    "|Psychiatric Aide|Psychiatric Technician|Psychiatrist|Psychology Professor|Public Health Service Officer\n",
    "|Public Relations Manager|Public Relations Specialist|Public Transportation Inspector|Publications Editor\n",
    "|Purchasing Agent|Purchasing Manager|Quality Control Coordinator|Quality Control Engineer|Quality Control Inspector\n",
    "|Quality Control Technician|Quarry Worker|Radar |Sonar Technicians|Radiation Protection Engineer|Radiation Therapists\n",
    "|Radio TV Announcer|Radio TV News Commentator|Radio TV Newscaster|Radio TV Producer|Radio TV Program Director\n",
    "|Radio TV Sports Announcer|Radio TV Station Administrator|Radio TV Talk Show Host|Radio Mechanics|Radio Operators\n",
    "|Radiologic Technicians|Radiologic Technologist|Radiologist|Rail Yard Engineers|Railroad Conductors |Yardmasters\n",
    "|Railroad Engineer|Railroad Inspector|Range Manager|Real Estate Appraiser|Real Estate Assessor|Real Estate Broker\n",
    "|Real Estate Lawyer|Real Estate Sales Agents|Recreation Leader|Recreational Protective Service Worker\n",
    "|Recreational Therapist|Recreational Vehicle Mechanic|Referee|Refuse |Recyclable Material Collectors\n",
    "|Registrar Administrator|Reliability Engineer|Religious Institution Education Coordinator|Reservation Ticket Agent\n",
    "|Residence Counselor|Resource Recovery Engineer|Resource Teacher|Respiratory Care Technician|Respiratory Therapist\n",
    "|Respiratory Therapy Technician|Restaurant Food Coordinator|Restaurant Manager|Retail Buyer\n",
    "|Retail Customer Service Representative|Retail Inventory Control Analyst|Retail Sales Department Supervisor\n",
    "|Retail Salespersons|Retail Store Manager|Revenue Agent|Safety Inspector|Sales Engineers|Sales Floor Stock Clerk\n",
    "|Sales Managers|Sales Promoter|Sales Representative Aircraft|Sales Representative Drugs|Sales Representative Graphic Arts\n",
    "|Sales Representative Hotel Furnishings|Sales Representative Medical Equipment|Sales Representative Printed Advertising\n",
    "|Sales Representative Radio|TV Time|Sales Representative Telecommunications|Sales Representative Teleconferencing\n",
    "|Sales Representative Education Programs|Sales Representatives Agricultural Products|Sales Representatives Instruments\n",
    "|Sales Representatives Mechanical Equipment|Sales Representitive Psychological Tests|Sanitary Engineer\n",
    "|Sawing Machine Operator|Scanner Operators|School Nurse|School Plant Consultant|School Psychologist|Scientific Linguist\n",
    "|Scientific Photographer|Screen Printing Machine Operators|Screen Writer|Script Editor|Securities Broker|Security \n",
    "|Fire Alarm Systems Installers|Security Guard|Self Enrichment Education Teachers|Septic Tank |Sewer Servicers\n",
    "|Service Station Attendants|Set Designer|Set Illustrator|Sewing Machine Operators|Sheet Metal Workers|Ship Carpenters\n",
    "|Joiners|Ship Engineers|Ship Master|Ship Mate|Ship Pilot|Shipping  Receiving  |Traffic Clerks|Shoe Machine Operators\n",
    "|Signal Switch Repairer|Skin Care Specialists|Small Engine Mechanics|Social |Community Service Manager|Social\n",
    "|Human Service Assistants|Social Psychologist|Social Science Research Assistants|Social Service Volunteer\n",
    "|Social Welfare Administrator|Social Work Professor|Social Worker|Sociology Professor|Soil Conservation Technician\n",
    "|Soil Conservationist|Soil Engineer|Soil Scientist|Solar Energy Systems Designer|Solid Waste Disposal Administrator\n",
    "|Sound Engineering Technicians|Special Education Administrator|Special Forces|Special Forces Officers|Speech Pathologist\n",
    "|Speech Writer|Sport Psychologist|Sport's|Entertainment Agent  Manager|Sports Agent|Sports Events Business Manager\n",
    "|Sports Physician|Sportswriter|Stained Glass Artist|Standards Engineer|Statement Clerks|Stationary Engineers\n",
    "|Statistical Assistants|Steel Workers|Storage |Distribution Manager|Stress Analyst Engineer|Structural Drafter\n",
    "|Structural Engineer|Student Admissions Administrator|Student Affairs Administrator|Student Financial Aid Administrator\n",
    "|Substance Abuse Counselor|Subway |Streetcar Conductor|Surgeon|Surgical Technician|Technologist|Survey Researchers\n",
    "|Surveying Technicians|Switchboard Operator|Systems Accountant|Systems Analyst  Data Processing|Tax Accountant|Tax Auditor\n",
    "|Tax Collector|Tax Examiner|Tax Lawyer|Tax Preparer|Taxi Drivers |Chauffeurs|Teacher of the Blind|Team Assemblers\n",
    "|Technical Scientific Publications Editor|Technical Director|Technical Illustrator|Technical Publications Writer\n",
    "|Technological Espionage Intelligence Agent|Telecommunications Line Installers |Repairers\n",
    "|Telecommunications Maintenance Worker|Telecommunications Technician|Telephone Station Installers|Textile Bleaching\n",
    "|Dyeing Machine Operators|Textile Cutting Machine Operators|Textile Designer|Tile |Marble Setters|Title Examiner\n",
    "|Title Searchers|Tool Machine Designer|Tool |Die Makers| Sharpener|Tour Guide|Town Clerk|Traffic Administrator\n",
    "|Traffic Agent|Traffic Technicians|Transit |Railroad Police|Transportation Attendants|Transportation Systems Design Engineer\n",
    "|Travel Agent|Travel Clerk|Travel Counselor|Travel Writer|Treasurer|Treatment Plant Operators|Tree Trimmers |Pruners\n",
    "|Truck Driver|Ultrasound Technologist|Unemployment Inspector|Urban |Regional Planner|Ushers |Lobby Attendants\n",
    "|Utility Meter Reader|Vending Machine Mechanic|Veterinarian|Veterinarian Technician|Veterinary Assistant|Video Engineer\n",
    "|Vocational Education Instructors College|Vocational Education Teachers  Middle School|Vocational Rehabilitation Counselor\n",
    "|Voice Pathologist|Waiters |Waitresses|Warehouse Stock Clerk|Watch Repairers|Water Pollution Control Inspector\n",
    "|Weather Observer|Web Art Director|Weighers |Measurers|Welder|Welfare Eligibility Workers |Interviewers|Wholesale Buyers\n",
    "|Wildlife Biologist|Wildlife Control Agent|Windows Draperies Treatment Specialist|Woodworking Machine Operators\n",
    "|Word Processing Specialist|Writer|Author|Zoo Veterinarian|Zoologist\n",
    "\"\"\"\n",
    "\n",
    "tweet_df['layp_occu'] = tweet_df['bio'].str.contains(conStrLay)\n",
    "\n",
    "# Save computer professional tweets\n",
    "tweet_df.to_csv('aiAI_engi_cleaned.csv', sep=',', encoding='utf-8')\n",
    "\n",
    "# Save laypeople tweets\n",
    "tweet_df.to_csv('aiAI_layp_cleaned.csv', sep=',', encoding='utf-8')\n",
    "tweet_df['has_occu'] = tweet_df['bio'] != \"\"\n",
    "\n",
    "# save tweets from both groups into one document\n",
    "tweet_df.to_csv('aiAI_tweets_cleaned.csv', sep=',', encoding='utf-8')\n"
   ]
  },
  {
   "cell_type": "code",
   "execution_count": 29,
   "metadata": {},
   "outputs": [],
   "source": [
    "# Create a column that categorizes all columns\n",
    "tweet_df['occu_cat'] = ''\n",
    "tweet_df.loc[tweet_df['has_occu'] == False, 'occu_cat'] = 'none'\n",
    "tweet_df.loc[tweet_df['engi_occu'] == True, 'occu_cat'] = 'engi_occu'\n",
    "tweet_df.loc[tweet_df['layp_occu'] == True, 'occu_cat'] = 'layp_occu'\n",
    "tweet_df.loc[tweet_df['occu_cat'] == '', 'occu_cat'] = 'other'"
   ]
  },
  {
   "cell_type": "markdown",
   "metadata": {},
   "source": [
    "Step II: Use bipolar sentiment lexicon to calculate positive and negative word ratio of tweets"
   ]
  },
  {
   "cell_type": "code",
   "execution_count": 30,
   "metadata": {},
   "outputs": [],
   "source": [
    "# read sentiment lexicon data\n",
    "posWW = open('positive.txt').read()\n",
    "negWW = open('negative.txt').read()\n",
    "\n",
    "positive_words = posWW.split('\\n')\n",
    "negative_words = negWW.split('\\n')\n",
    "\n",
    "# the column to count total number of words in each tweet\n",
    "tweet_df['word_count'] = tweet_df['text_clean'].str.split().str.len()\n",
    "tweet_df.head(5)\n",
    "\n",
    "# Count the number of positive words\n",
    "positive_counts = []\n",
    "negative_counts = []\n",
    "tweet_length = []\n",
    "for tweet in tweet_df['text_clean']:\n",
    "    positive_counter = 0\n",
    "    negative_counter = 0\n",
    "    tweet_length.append(len(words))\n",
    "    for word in words:\n",
    "        if word in positive_words:\n",
    "            positive_counter = positive_counter + 1\n",
    "        if word in negative_words:\n",
    "            negative_counter = negative_counter + 1\n",
    "    positive_counts.append(positive_counter)\n",
    "    negative_counts.append(negative_counter)\n",
    "    \n",
    "# Add those counts to the data frame\n",
    "tweet_df['pos_count'] = positive_counts\n",
    "tweet_df['neg_count'] = negative_counts\n",
    "\n",
    "# Calculate ratios\n",
    "tweet_df['pos_ratio'] = tweet_df['pos_count']/tweet_df['word_count']\n",
    "tweet_df['neg_ratio'] = tweet_df['neg_count']/tweet_df['word_count']\n",
    "\n",
    "# Save \n",
    "tweet_df.to_csv('aiAI_tweets_cleaned.csv', sep=',', encoding='utf-8')"
   ]
  },
  {
   "cell_type": "markdown",
   "metadata": {},
   "source": [
    "Step III: Clean the data again"
   ]
  },
  {
   "cell_type": "code",
   "execution_count": null,
   "metadata": {},
   "outputs": [],
   "source": [
    "# Load data\n",
    "tweet_df = pd.read_csv('aiAI_tweets_cleaned.csv',index_col = 0)\n",
    "\n",
    "#Remove the rows that pos_ratio > 1.0\n",
    "tweet_df = tweet_df.drop(tweet_df[tweet_df.pos_ratio>1.0].index)\n",
    "\n",
    "# Delete rows with index 'other'\n",
    "indexNames = tweet_df[ tweet_df['occu_cat'] == \"other\" ].index\n",
    "tweet_df.drop(indexNames , inplace=True)\n",
    "\n",
    "#Remove rows with NaN\n",
    "tweet_df = tweet_df[np.isfinite(tweet_df['pos_ratio'])]\n",
    "\n",
    "#Delete rows with RT\n",
    "tweet_df=tweet_df[~tweet_df.text.str.contains(\"RT\")]\n",
    "\n",
    "#Reset the index of tweet_df\n",
    "tweet_df = tweet_df.reset_index(drop=True)\n",
    "\n",
    "#Save removed  data to occu-other_ratio_remove.csv\n",
    "tweet_df.to_csv('remove.csv', sep=',', encoding='utf-8')"
   ]
  },
  {
   "cell_type": "markdown",
   "metadata": {},
   "source": [
    "Step IV: Sampling"
   ]
  },
  {
   "cell_type": "code",
   "execution_count": null,
   "metadata": {},
   "outputs": [],
   "source": [
    "# Load data\n",
    "tweet_df = pd.read_csv('abnormal_pos_ratio_remove.csv',index_col = 0)\n",
    "\n",
    "# Subset the data to only Engineer and Laypeople tweets\n",
    "tweet_df_EL = tweet_df[(tweet_df['occu_cat'] == 'engi_occu') | (tweet_df['occu_cat'] == 'layp_occu')]\n",
    "\n",
    "# Check if there are balanced data between engi and lap categories\n",
    "tweet_df_EL['occu_cat'].value_counts()\n",
    "\n",
    "# split the data into a engineer (EN) and laypeople (LA) set\n",
    "tweet_df_EN = tweet_df_EL[(tweet_df_EL['occu_cat'] == 'engi_occu')] \n",
    "tweet_df_LA = tweet_df_EL[(tweet_df_EL['occu_cat'] == 'layp_occu')]\n",
    "\n",
    "# Confirm how many rows are in LA, the smaller sample\n",
    "LA_tweet_count = len(tweet_df_LA)\n",
    "print(LA_tweet_count) \n",
    "\n",
    "# Sample the same number of tweets from EN\n",
    "tweet_df_EN_sample = tweet_df_EN.sample(n = LA_tweet_count)\n",
    "len(tweet_df_EN_sample) "
   ]
  },
  {
   "cell_type": "markdown",
   "metadata": {},
   "source": [
    "Step V: Descriptive Statistics"
   ]
  },
  {
   "cell_type": "code",
   "execution_count": null,
   "metadata": {},
   "outputs": [],
   "source": [
    "from numpy import inf\n",
    "\n",
    "# positive and negative ratios from each occupation\n",
    "EN_pos = np.asarray(tweet_df_EN_sample.pos_ratio,dtype=np.float)\n",
    "EN_neg = np.asarray(tweet_df_EN_sample.neg_ratio,dtype=np.float)\n",
    "LA_pos = np.asarray(tweet_df_LA.pos_ratio,dtype=np.float)\n",
    "LA_neg = np.asarray(tweet_df_LA.neg_ratio,dtype=np.float)\n",
    "\n",
    "# Convert inf to 0 for each\n",
    "EN_pos[EN_pos == inf] = 0\n",
    "EN_neg[EN_neg == inf] = 0\n",
    "LA_pos[LA_pos == inf] = 0\n",
    "LA_neg[LA_neg == inf] = 0\n",
    "EN_pos[EN_pos == inf] = 0\n",
    "EN_neg[EN_neg == inf] = 0\n",
    "LA_pos[LA_pos == inf] = 0\n",
    "LA_neg[LA_neg == inf] = 0\n",
    "\n",
    "# find NaN indices\n",
    "EN_pos_NaN = np.argwhere(np.isnan(EN_pos))\n",
    "EN_neg_NaN = np.argwhere(np.isnan(EN_neg))\n",
    "LA_pos_NaN = np.argwhere(np.isnan(LA_pos))\n",
    "LA_neg_NaN = np.argwhere(np.isnan(LA_neg))\n",
    "\n",
    "# set NaN to zero\n",
    "EN_pos[EN_pos_NaN] = 0\n",
    "EN_neg[EN_neg_NaN] = 0\n",
    "LA_pos[LA_pos_NaN] = 0\n",
    "LA_neg[LA_neg_NaN] = 0"
   ]
  },
  {
   "cell_type": "code",
   "execution_count": null,
   "metadata": {},
   "outputs": [],
   "source": [
    "# Positive ratio, engineer group\n",
    "# mean, median, range, st. deviation, each rounded to 3 decimal places\n",
    "EN_pos_mean = round(EN_pos.mean(), 3)\n",
    "EN_pos_median = round(np.median(EN_pos), 3)\n",
    "EN_pos_sd = round(np.std(EN_pos), 3)\n",
    "EN_pos_max = round(max(EN_pos), 3)\n",
    "EN_pos_min = round(min(EN_pos), 3)\n",
    "\n",
    "# Negative ratio, engineer group\n",
    "# mean, median, range, st. deviation, each rounded to 3 decimal places\n",
    "EN_neg_mean = round(EN_neg.mean(), 3)\n",
    "EN_neg_median = round(np.median(EN_neg), 3)\n",
    "EN_neg_sd = round(np.std(EN_neg), 3)\n",
    "EN_neg_max = round(max(EN_neg), 3)\n",
    "EN_neg_min = round(min(EN_neg), 3)\n",
    "\n",
    "# Positive ratio, laypeople group\n",
    "# mean, median, range, st. deviation, each rounded to 3 decimal places\n",
    "LA_pos_mean = round(LA_pos.mean(), 3)\n",
    "LA_pos_median = round(np.median(LA_pos), 3)\n",
    "LA_pos_sd = round(np.std(LA_pos), 3)\n",
    "LA_pos_max = round(max(LA_pos), 3)\n",
    "LA_pos_min = round(min(LA_pos), 3)\n",
    "\n",
    "# Negative ratio, laypeople group\n",
    "# mean, median, range, st. deviation, each rounded to 3 decimal places\n",
    "LA_neg_mean = round(LA_neg.mean(), 3)\n",
    "LA_neg_median = round(np.median(LA_neg), 3)\n",
    "LA_neg_sd = round(np.std(LA_neg), 3)\n",
    "LA_neg_max = round(max(LA_neg), 3)\n",
    "LA_neg_min = round(min(LA_neg), 3)"
   ]
  },
  {
   "cell_type": "code",
   "execution_count": null,
   "metadata": {},
   "outputs": [],
   "source": [
    "# Summarize mean and s.d.\n",
    "comp_pos = 'Pos ratio: EN mean %f (s.d. %f); LA mean %f (s.d. %f)' % (EN_pos_mean, EN_pos_sd, LA_pos_mean, LA_pos_sd)\n",
    "comp_neg = 'Neg ratio: EN mean %f (s.d. %f); LA mean %f (s.d. %f)' % (EN_neg_mean, EN_neg_sd, LA_neg_mean, LA_neg_sd)\n",
    "print(comp_pos)\n",
    "print(comp_neg)"
   ]
  },
  {
   "cell_type": "markdown",
   "metadata": {},
   "source": [
    "Step VI: Visualize the Distributions of Samples"
   ]
  },
  {
   "cell_type": "code",
   "execution_count": null,
   "metadata": {},
   "outputs": [],
   "source": [
    "# Positive ratio is not normal\n",
    "LA_pos_plot = sns.distplot(tweet_df_LA.pos_ratio, hist = False).set_title('Prop. of positive tweets, Laypeople')"
   ]
  },
  {
   "cell_type": "code",
   "execution_count": null,
   "metadata": {},
   "outputs": [],
   "source": [
    "EN_pos_plot = sns.distplot(tweet_df_EN_sample.pos_ratio, hist = False).set_title('Prop. of positive tweets, Engineer')"
   ]
  },
  {
   "cell_type": "code",
   "execution_count": null,
   "metadata": {},
   "outputs": [],
   "source": [
    "# negative ratio is not normal\n",
    "LA_neg_plot = sns.distplot(tweet_df_LA.neg_ratio, hist = False).set_title('Prop. of negative tweets, Laypeople')"
   ]
  },
  {
   "cell_type": "code",
   "execution_count": null,
   "metadata": {},
   "outputs": [],
   "source": [
    "# negative ratio is not normal\n",
    "EN_neg_plot = sns.distplot(tweet_df_EN_sample.neg_ratio, hist = False).set_title('Prop. of negative tweets, Engineer')"
   ]
  },
  {
   "cell_type": "markdown",
   "metadata": {},
   "source": [
    "Step VII: Run Wilcox test for Each Dependent Variable"
   ]
  },
  {
   "cell_type": "code",
   "execution_count": null,
   "metadata": {},
   "outputs": [],
   "source": [
    "# Import test function\n",
    "from scipy.stats import mannwhitneyu\n",
    "\n",
    "# positive ratio test\n",
    "mannwhitneyu(tweet_df_LA.pos_ratio, tweet_df_EN_sample.pos_ratio)\n",
    "\n",
    "pos_means = 'Laypeople positive mean: %f; Engineer positive mean: %f' % (LA_pos_mean, EN_pos_mean)\n",
    "print(neg_means)"
   ]
  },
  {
   "cell_type": "code",
   "execution_count": null,
   "metadata": {},
   "outputs": [],
   "source": [
    "# negative test ratio\n",
    "mannwhitneyu(tweet_df_LA.neg_ratio, tweet_df_EN_sample.neg_ratio)\n",
    "\n",
    "neg_means = 'Laypeople negative mean: %f; Engineer negative mean: %f' % (LA_neg_mean, EN_neg_mean)\n",
    "print(neg_means)"
   ]
  },
  {
   "cell_type": "markdown",
   "metadata": {},
   "source": [
    "Step VIII: Run Basic Linear Regression"
   ]
  },
  {
   "cell_type": "code",
   "execution_count": null,
   "metadata": {},
   "outputs": [],
   "source": [
    "import statsmodels.api as sm\n",
    "import scipy\n",
    "from scipy import stats"
   ]
  },
  {
   "cell_type": "code",
   "execution_count": null,
   "metadata": {},
   "outputs": [],
   "source": [
    "# Convert tweets whose counted words divided by zero-sentiment word to inf\n",
    "tweet_df_EL.pos_ratio[np.argwhere(np.isinf(tweet_df_EL.pos_ratio))] = 0\n",
    "tweet_df_EL.neg_ratio[np.argwhere(np.isinf(tweet_df_EL.neg_ratio))] = 0"
   ]
  },
  {
   "cell_type": "code",
   "execution_count": null,
   "metadata": {},
   "outputs": [],
   "source": [
    "# find NaN indices\n",
    "EL_pos_NaN = np.argwhere(np.isnan(tweet_df_EL.pos_ratio))\n",
    "EL_neg_NaN = np.argwhere(np.isnan(tweet_df_EL.neg_ratio))\n",
    "\n",
    "# set NaN to zero\n",
    "tweet_df_EL.pos_ratio[EL_pos_NaN] = 0\n",
    "tweet_df_EL.neg_ratio[EL_neg_NaN] = 0"
   ]
  },
  {
   "cell_type": "markdown",
   "metadata": {},
   "source": [
    "Step IX: Remove Outliers"
   ]
  },
  {
   "cell_type": "code",
   "execution_count": null,
   "metadata": {},
   "outputs": [],
   "source": [
    "# The measure used to assess outliers is the z-score\n",
    "# Create new columns for pos_ratio and neg_ratio that are z-transformed\n",
    "tweet_df_EL['pos_ratio_z'] = scipy.stats.zscore(tweet_df_EL['pos_ratio'])\n",
    "tweet_df_EL['neg_ratio_z'] = scipy.stats.zscore(tweet_df_EL['neg_ratio'])"
   ]
  },
  {
   "cell_type": "code",
   "execution_count": null,
   "metadata": {},
   "outputs": [],
   "source": [
    "# the distribution of z-scores: a few points are > 3\n",
    "sns.distplot(tweet_df_EL.pos_ratio_z, hist = False).set_title('Z-scores, positive ratio') "
   ]
  },
  {
   "cell_type": "code",
   "execution_count": null,
   "metadata": {},
   "outputs": [],
   "source": [
    "# the distribution of z-scores: few points are > 3\n",
    "sns.distplot(tweet_df_EL.neg_ratio_z, hist = False).set_title('Z-scores, negative ratio') "
   ]
  },
  {
   "cell_type": "code",
   "execution_count": null,
   "metadata": {},
   "outputs": [],
   "source": [
    "# save the data as a separate object\n",
    "tweet_df_EL_saver = tweet_df_EL\n",
    "\n",
    "# Restrict the main data frame (tweet_df_NT) to only z-scores < 3 or > -3\n",
    "tweet_df_EL = tweet_df_EL[(tweet_df_EL['pos_ratio_z'] < 3) & (tweet_df_EL['pos_ratio_z'] > -3)] \n",
    "tweet_df_EL = tweet_df_EL[(tweet_df_EL['neg_ratio_z'] < 3) & (tweet_df_EL['neg_ratio_z'] > -3)] "
   ]
  },
  {
   "cell_type": "markdown",
   "metadata": {},
   "source": [
    " Step X Positive Ratio Model"
   ]
  },
  {
   "cell_type": "code",
   "execution_count": null,
   "metadata": {},
   "outputs": [],
   "source": [
    "# indepdendent and dependent variables\n",
    "x_pos = tweet_df_EL['occu_cat']    \n",
    "\n",
    "# the proportion of all the data that falls into each category\n",
    "num_rows = tweet_df_EL.shape[0] \n",
    "cat_counts = tweet_df_EL['occu_cat'].value_counts() \n",
    "cat_counts / num_rows\n",
    "\n",
    "tweet_df_EL['weighted_occu'] = 0\n",
    "tweet_df_EL.loc[tweet_df_EL.occu_cat == 'layp_occu', 'weighted_occu'] = 0.67\n",
    "tweet_df_EL.loc[tweet_df_EL.occu_cat == 'engi_occu', 'weighted_occu'] = -0.33\n",
    "\n",
    "tweet_df_EL.weighted_occu.value_counts()"
   ]
  },
  {
   "cell_type": "code",
   "execution_count": null,
   "metadata": {},
   "outputs": [],
   "source": [
    "# Set weighted row to dependent variable\n",
    "x_pos = tweet_df_EL.weighted_occu\n",
    "\n",
    "# Dependent variable is the positive word ratio of each tweet. \n",
    "y_pos = tweet_df_EL['pos_ratio']   \n",
    "\n",
    "# Fit the model\n",
    "pos_model = sm.OLS(y_pos, x_pos)\n",
    "pos_model2 = pos_model.fit()\n",
    "print(pos_model2.summary())"
   ]
  },
  {
   "cell_type": "markdown",
   "metadata": {},
   "source": [
    "Step XI: Negative Ratio Model"
   ]
  },
  {
   "cell_type": "code",
   "execution_count": null,
   "metadata": {},
   "outputs": [],
   "source": [
    "# Dependent variable, negative ratio\n",
    "y_neg = tweet_df_EL['neg_ratio']   \n",
    "x_neg = x_pos\n",
    "\n",
    "# Fit the model\n",
    "neg_model = sm.OLS(y_neg, x_neg)\n",
    "neg_model2 = neg_model.fit()\n",
    "print(neg_model2.summary())"
   ]
  },
  {
   "cell_type": "code",
   "execution_count": 39,
   "metadata": {},
   "outputs": [],
   "source": [
    "# Plot positive ratio and negative ratio\n",
    "tweet_df.boxplot(column=['pos_ratio', 'neg_ratio'], by=['occu_cat'])"
   ]
  }
 ],
 "metadata": {
  "kernelspec": {
   "display_name": "Python 3",
   "language": "python",
   "name": "python3"
  },
  "language_info": {
   "codemirror_mode": {
    "name": "ipython",
    "version": 3
   },
   "file_extension": ".py",
   "mimetype": "text/x-python",
   "name": "python",
   "nbconvert_exporter": "python",
   "pygments_lexer": "ipython3",
   "version": "3.6.8"
  },
  "varInspector": {
   "cols": {
    "lenName": 16,
    "lenType": 16,
    "lenVar": 40
   },
   "kernels_config": {
    "python": {
     "delete_cmd_postfix": "",
     "delete_cmd_prefix": "del ",
     "library": "var_list.py",
     "varRefreshCmd": "print(var_dic_list())"
    },
    "r": {
     "delete_cmd_postfix": ") ",
     "delete_cmd_prefix": "rm(",
     "library": "var_list.r",
     "varRefreshCmd": "cat(var_dic_list()) "
    }
   },
   "types_to_exclude": [
    "module",
    "function",
    "builtin_function_or_method",
    "instance",
    "_Feature"
   ],
   "window_display": false
  }
 },
 "nbformat": 4,
 "nbformat_minor": 2
}
